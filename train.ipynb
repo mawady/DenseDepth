{
 "cells": [
  {
   "cell_type": "code",
   "execution_count": 2,
   "metadata": {},
   "outputs": [
    {
     "name": "stdout",
     "output_type": "stream",
     "text": [
      "Will use 0 GPUs.\n",
      "Loading base model (DenseNet)..\n",
      "Base model loaded.\n",
      "Model created.\n"
     ]
    }
   ],
   "source": [
    "!python train.py --data nyu --gpus 0 --bs 8"
   ]
  }
 ],
 "metadata": {
  "kernelspec": {
   "display_name": "py3-10",
   "language": "python",
   "name": "python3"
  },
  "language_info": {
   "codemirror_mode": {
    "name": "ipython",
    "version": 3
   },
   "file_extension": ".py",
   "mimetype": "text/x-python",
   "name": "python",
   "nbconvert_exporter": "python",
   "pygments_lexer": "ipython3",
   "version": "3.10.0"
  },
  "orig_nbformat": 4
 },
 "nbformat": 4,
 "nbformat_minor": 2
}
